{
 "cells": [
  {
   "cell_type": "code",
   "execution_count": 162,
   "metadata": {
    "scrolled": true
   },
   "outputs": [
    {
     "name": "stdout",
     "output_type": "stream",
     "text": [
      "Requirement already satisfied: geopy in /Users/findlaybowditch/opt/anaconda3/lib/python3.7/site-packages (1.20.0)\n",
      "Requirement already satisfied: geographiclib<2,>=1.49 in /Users/findlaybowditch/opt/anaconda3/lib/python3.7/site-packages (from geopy) (1.50)\n",
      "Note: you may need to restart the kernel to use updated packages.\n"
     ]
    }
   ],
   "source": [
    "pip install geopy\n"
   ]
  },
  {
   "cell_type": "code",
   "execution_count": 187,
   "metadata": {},
   "outputs": [],
   "source": [
    "import pandas as pd\n",
    "import time"
   ]
  },
  {
   "cell_type": "code",
   "execution_count": 212,
   "metadata": {},
   "outputs": [],
   "source": [
    "from geopy.geocoders import Nominatim\n",
    "geolocator = Nominatim(user_agent=\"locator-ny\", timeout = 3)\n"
   ]
  },
  {
   "cell_type": "markdown",
   "metadata": {},
   "source": [
    "### import csv"
   ]
  },
  {
   "cell_type": "code",
   "execution_count": 164,
   "metadata": {},
   "outputs": [],
   "source": [
    "zone = pd.read_csv('taxi+_zone_lookup.csv')"
   ]
  },
  {
   "cell_type": "code",
   "execution_count": 165,
   "metadata": {
    "collapsed": true
   },
   "outputs": [
    {
     "data": {
      "text/html": [
       "<div>\n",
       "<style scoped>\n",
       "    .dataframe tbody tr th:only-of-type {\n",
       "        vertical-align: middle;\n",
       "    }\n",
       "\n",
       "    .dataframe tbody tr th {\n",
       "        vertical-align: top;\n",
       "    }\n",
       "\n",
       "    .dataframe thead th {\n",
       "        text-align: right;\n",
       "    }\n",
       "</style>\n",
       "<table border=\"1\" class=\"dataframe\">\n",
       "  <thead>\n",
       "    <tr style=\"text-align: right;\">\n",
       "      <th></th>\n",
       "      <th>LocationID</th>\n",
       "      <th>Borough</th>\n",
       "      <th>Zone</th>\n",
       "      <th>service_zone</th>\n",
       "    </tr>\n",
       "  </thead>\n",
       "  <tbody>\n",
       "    <tr>\n",
       "      <td>0</td>\n",
       "      <td>1</td>\n",
       "      <td>EWR</td>\n",
       "      <td>Newark Airport</td>\n",
       "      <td>EWR</td>\n",
       "    </tr>\n",
       "    <tr>\n",
       "      <td>1</td>\n",
       "      <td>2</td>\n",
       "      <td>Queens</td>\n",
       "      <td>Jamaica Bay</td>\n",
       "      <td>Boro Zone</td>\n",
       "    </tr>\n",
       "    <tr>\n",
       "      <td>2</td>\n",
       "      <td>3</td>\n",
       "      <td>Bronx</td>\n",
       "      <td>Allerton/Pelham Gardens</td>\n",
       "      <td>Boro Zone</td>\n",
       "    </tr>\n",
       "    <tr>\n",
       "      <td>3</td>\n",
       "      <td>4</td>\n",
       "      <td>Manhattan</td>\n",
       "      <td>Alphabet City</td>\n",
       "      <td>Yellow Zone</td>\n",
       "    </tr>\n",
       "    <tr>\n",
       "      <td>4</td>\n",
       "      <td>5</td>\n",
       "      <td>Staten Island</td>\n",
       "      <td>Arden Heights</td>\n",
       "      <td>Boro Zone</td>\n",
       "    </tr>\n",
       "  </tbody>\n",
       "</table>\n",
       "</div>"
      ],
      "text/plain": [
       "   LocationID        Borough                     Zone service_zone\n",
       "0           1            EWR           Newark Airport          EWR\n",
       "1           2         Queens              Jamaica Bay    Boro Zone\n",
       "2           3          Bronx  Allerton/Pelham Gardens    Boro Zone\n",
       "3           4      Manhattan            Alphabet City  Yellow Zone\n",
       "4           5  Staten Island            Arden Heights    Boro Zone"
      ]
     },
     "execution_count": 165,
     "metadata": {},
     "output_type": "execute_result"
    }
   ],
   "source": [
    "zone.head()"
   ]
  },
  {
   "cell_type": "markdown",
   "metadata": {},
   "source": [
    "### clean location for geopy"
   ]
  },
  {
   "cell_type": "code",
   "execution_count": 166,
   "metadata": {},
   "outputs": [],
   "source": [
    "zone.dropna(inplace = True)"
   ]
  },
  {
   "cell_type": "code",
   "execution_count": 167,
   "metadata": {},
   "outputs": [],
   "source": [
    "zone['location'] = zone['Zone'].apply(lambda x: x.split('/'))"
   ]
  },
  {
   "cell_type": "code",
   "execution_count": 168,
   "metadata": {},
   "outputs": [],
   "source": [
    "def one_place(x):\n",
    "    if len(x) >= 2:\n",
    "        x.pop()     "
   ]
  },
  {
   "cell_type": "code",
   "execution_count": 172,
   "metadata": {
    "collapsed": true
   },
   "outputs": [
    {
     "data": {
      "text/plain": [
       "0      None\n",
       "1      None\n",
       "2      None\n",
       "3      None\n",
       "4      None\n",
       "       ... \n",
       "258    None\n",
       "259    None\n",
       "260    None\n",
       "261    None\n",
       "262    None\n",
       "Name: location, Length: 263, dtype: object"
      ]
     },
     "execution_count": 172,
     "metadata": {},
     "output_type": "execute_result"
    }
   ],
   "source": [
    "zone['location'].apply(lambda x: one_place(x))"
   ]
  },
  {
   "cell_type": "code",
   "execution_count": 173,
   "metadata": {
    "collapsed": true
   },
   "outputs": [
    {
     "data": {
      "text/plain": [
       "0          [Newark Airport]\n",
       "1             [Jamaica Bay]\n",
       "2                [Allerton]\n",
       "3           [Alphabet City]\n",
       "4           [Arden Heights]\n",
       "               ...         \n",
       "258              [Woodlawn]\n",
       "259              [Woodside]\n",
       "260    [World Trade Center]\n",
       "261        [Yorkville East]\n",
       "262        [Yorkville West]\n",
       "Name: location, Length: 263, dtype: object"
      ]
     },
     "execution_count": 173,
     "metadata": {},
     "output_type": "execute_result"
    }
   ],
   "source": [
    "zone['location']"
   ]
  },
  {
   "cell_type": "code",
   "execution_count": 174,
   "metadata": {
    "collapsed": true
   },
   "outputs": [
    {
     "data": {
      "text/plain": [
       "0          ['Newark Airport']\n",
       "1             ['Jamaica Bay']\n",
       "2                ['Allerton']\n",
       "3           ['Alphabet City']\n",
       "4           ['Arden Heights']\n",
       "                ...          \n",
       "258              ['Woodlawn']\n",
       "259              ['Woodside']\n",
       "260    ['World Trade Center']\n",
       "261        ['Yorkville East']\n",
       "262        ['Yorkville West']\n",
       "Name: location, Length: 263, dtype: object"
      ]
     },
     "execution_count": 174,
     "metadata": {},
     "output_type": "execute_result"
    }
   ],
   "source": [
    "zone['location'].astype(str)"
   ]
  },
  {
   "cell_type": "code",
   "execution_count": 175,
   "metadata": {},
   "outputs": [],
   "source": [
    "zone['location'] = zone['location'].str[0]"
   ]
  },
  {
   "cell_type": "code",
   "execution_count": 176,
   "metadata": {},
   "outputs": [],
   "source": [
    "zone['Address'] = zone['location'] + ', ' + zone['Borough']"
   ]
  },
  {
   "cell_type": "code",
   "execution_count": 182,
   "metadata": {
    "collapsed": true
   },
   "outputs": [
    {
     "name": "stderr",
     "output_type": "stream",
     "text": [
      "/Users/findlaybowditch/opt/anaconda3/lib/python3.7/site-packages/ipykernel_launcher.py:1: SettingWithCopyWarning: \n",
      "A value is trying to be set on a copy of a slice from a DataFrame\n",
      "\n",
      "See the caveats in the documentation: http://pandas.pydata.org/pandas-docs/stable/user_guide/indexing.html#returning-a-view-versus-a-copy\n",
      "  \"\"\"Entry point for launching an IPython kernel.\n"
     ]
    }
   ],
   "source": [
    "zone['Address'][0] = zone['Address'][0].strip('EWR')"
   ]
  },
  {
   "cell_type": "code",
   "execution_count": 184,
   "metadata": {
    "collapsed": true
   },
   "outputs": [
    {
     "data": {
      "text/plain": [
       "0                   Newark Airport, \n",
       "1                Jamaica Bay, Queens\n",
       "2                    Allerton, Bronx\n",
       "3           Alphabet City, Manhattan\n",
       "4       Arden Heights, Staten Island\n",
       "                   ...              \n",
       "258                  Woodlawn, Bronx\n",
       "259                 Woodside, Queens\n",
       "260    World Trade Center, Manhattan\n",
       "261        Yorkville East, Manhattan\n",
       "262        Yorkville West, Manhattan\n",
       "Name: Address, Length: 263, dtype: object"
      ]
     },
     "execution_count": 184,
     "metadata": {},
     "output_type": "execute_result"
    }
   ],
   "source": [
    "zone['Address']"
   ]
  },
  {
   "cell_type": "markdown",
   "metadata": {},
   "source": [
    "### lat and long funcs "
   ]
  },
  {
   "cell_type": "code",
   "execution_count": 269,
   "metadata": {},
   "outputs": [],
   "source": [
    "def lat(location):\n",
    "    lat = geolocator.geocode(location).latitude\n",
    "    print(location)\n",
    "    return lat\n"
   ]
  },
  {
   "cell_type": "code",
   "execution_count": 270,
   "metadata": {},
   "outputs": [],
   "source": [
    "def long(location):\n",
    "    long = geolocator.geocode(location).longitude\n",
    "    print(location)\n",
    "    return long"
   ]
  },
  {
   "cell_type": "markdown",
   "metadata": {},
   "source": [
    "### further address adjustments to avoid error"
   ]
  },
  {
   "cell_type": "code",
   "execution_count": 231,
   "metadata": {
    "collapsed": true
   },
   "outputs": [
    {
     "name": "stderr",
     "output_type": "stream",
     "text": [
      "/Users/findlaybowditch/opt/anaconda3/lib/python3.7/site-packages/ipykernel_launcher.py:1: SettingWithCopyWarning: \n",
      "A value is trying to be set on a copy of a slice from a DataFrame\n",
      "\n",
      "See the caveats in the documentation: http://pandas.pydata.org/pandas-docs/stable/user_guide/indexing.html#returning-a-view-versus-a-copy\n",
      "  \"\"\"Entry point for launching an IPython kernel.\n"
     ]
    }
   ],
   "source": [
    "zone['Address'][168] = 'West, Bronx'"
   ]
  },
  {
   "cell_type": "code",
   "execution_count": 218,
   "metadata": {
    "collapsed": true
   },
   "outputs": [
    {
     "name": "stderr",
     "output_type": "stream",
     "text": [
      "/Users/findlaybowditch/opt/anaconda3/lib/python3.7/site-packages/ipykernel_launcher.py:1: SettingWithCopyWarning: \n",
      "A value is trying to be set on a copy of a slice from a DataFrame\n",
      "\n",
      "See the caveats in the documentation: http://pandas.pydata.org/pandas-docs/stable/user_guide/indexing.html#returning-a-view-versus-a-copy\n",
      "  \"\"\"Entry point for launching an IPython kernel.\n"
     ]
    }
   ],
   "source": [
    "zone['Address'][134] = 'Kew Gardens, Queens'"
   ]
  },
  {
   "cell_type": "code",
   "execution_count": 239,
   "metadata": {
    "collapsed": true
   },
   "outputs": [
    {
     "name": "stderr",
     "output_type": "stream",
     "text": [
      "/Users/findlaybowditch/opt/anaconda3/lib/python3.7/site-packages/ipykernel_launcher.py:1: SettingWithCopyWarning: \n",
      "A value is trying to be set on a copy of a slice from a DataFrame\n",
      "\n",
      "See the caveats in the documentation: http://pandas.pydata.org/pandas-docs/stable/user_guide/indexing.html#returning-a-view-versus-a-copy\n",
      "  \"\"\"Entry point for launching an IPython kernel.\n"
     ]
    }
   ],
   "source": [
    "zone['Address'][255] = 'Williamsburg, Brooklyn'"
   ]
  },
  {
   "cell_type": "code",
   "execution_count": 241,
   "metadata": {
    "collapsed": true
   },
   "outputs": [
    {
     "name": "stderr",
     "output_type": "stream",
     "text": [
      "/Users/findlaybowditch/opt/anaconda3/lib/python3.7/site-packages/ipykernel_launcher.py:1: SettingWithCopyWarning: \n",
      "A value is trying to be set on a copy of a slice from a DataFrame\n",
      "\n",
      "See the caveats in the documentation: http://pandas.pydata.org/pandas-docs/stable/user_guide/indexing.html#returning-a-view-versus-a-copy\n",
      "  \"\"\"Entry point for launching an IPython kernel.\n"
     ]
    }
   ],
   "source": [
    "zone['Address'][254] = 'Williamsburg, Brooklyn'"
   ]
  },
  {
   "cell_type": "code",
   "execution_count": 250,
   "metadata": {
    "collapsed": true
   },
   "outputs": [
    {
     "name": "stderr",
     "output_type": "stream",
     "text": [
      "/Users/findlaybowditch/opt/anaconda3/lib/python3.7/site-packages/ipykernel_launcher.py:1: SettingWithCopyWarning: \n",
      "A value is trying to be set on a copy of a slice from a DataFrame\n",
      "\n",
      "See the caveats in the documentation: http://pandas.pydata.org/pandas-docs/stable/user_guide/indexing.html#returning-a-view-versus-a-copy\n",
      "  \"\"\"Entry point for launching an IPython kernel.\n"
     ]
    }
   ],
   "source": [
    "zone['Address'][187] = 'Crown Heights, Brooklyn'"
   ]
  },
  {
   "cell_type": "code",
   "execution_count": 263,
   "metadata": {
    "collapsed": true
   },
   "outputs": [
    {
     "name": "stderr",
     "output_type": "stream",
     "text": [
      "/Users/findlaybowditch/opt/anaconda3/lib/python3.7/site-packages/ipykernel_launcher.py:1: SettingWithCopyWarning: \n",
      "A value is trying to be set on a copy of a slice from a DataFrame\n",
      "\n",
      "See the caveats in the documentation: http://pandas.pydata.org/pandas-docs/stable/user_guide/indexing.html#returning-a-view-versus-a-copy\n",
      "  \"\"\"Entry point for launching an IPython kernel.\n"
     ]
    }
   ],
   "source": [
    "zone['Address'][240] = 'Van Cortlandt, Bronx'"
   ]
  },
  {
   "cell_type": "markdown",
   "metadata": {},
   "source": [
    "### apply funcs to address"
   ]
  },
  {
   "cell_type": "code",
   "execution_count": 271,
   "metadata": {
    "collapsed": true
   },
   "outputs": [
    {
     "name": "stdout",
     "output_type": "stream",
     "text": [
      "Newark Airport, \n",
      "Jamaica Bay, Queens\n",
      "Allerton, Bronx\n",
      "Alphabet City, Manhattan\n",
      "Arden Heights, Staten Island\n",
      "Arrochar, Staten Island\n",
      "Astoria, Queens\n",
      "Astoria Park, Queens\n",
      "Auburndale, Queens\n",
      "Baisley Park, Queens\n",
      "Bath Beach, Brooklyn\n",
      "Battery Park, Manhattan\n",
      "Battery Park City, Manhattan\n",
      "Bay Ridge, Brooklyn\n",
      "Bay Terrace, Queens\n",
      "Bayside, Queens\n",
      "Bedford, Brooklyn\n",
      "Bedford Park, Bronx\n",
      "Bellerose, Queens\n",
      "Belmont, Bronx\n",
      "Bensonhurst East, Brooklyn\n",
      "Bensonhurst West, Brooklyn\n",
      "Bloomfield, Staten Island\n",
      "Bloomingdale, Manhattan\n",
      "Boerum Hill, Brooklyn\n",
      "Borough Park, Brooklyn\n",
      "Breezy Point, Queens\n",
      "Briarwood, Queens\n",
      "Brighton Beach, Brooklyn\n",
      "Broad Channel, Queens\n",
      "Bronx Park, Bronx\n",
      "Bronxdale, Bronx\n",
      "Brooklyn Heights, Brooklyn\n",
      "Brooklyn Navy Yard, Brooklyn\n",
      "Brownsville, Brooklyn\n",
      "Bushwick North, Brooklyn\n",
      "Bushwick South, Brooklyn\n",
      "Cambria Heights, Queens\n",
      "Canarsie, Brooklyn\n",
      "Carroll Gardens, Brooklyn\n",
      "Central Harlem, Manhattan\n",
      "Central Harlem North, Manhattan\n",
      "Central Park, Manhattan\n",
      "Charleston, Staten Island\n",
      "Chinatown, Manhattan\n",
      "City Island, Bronx\n",
      "Claremont, Bronx\n",
      "Clinton East, Manhattan\n",
      "Clinton Hill, Brooklyn\n",
      "Clinton West, Manhattan\n",
      "Co-Op City, Bronx\n",
      "Cobble Hill, Brooklyn\n",
      "College Point, Queens\n",
      "Columbia Street, Brooklyn\n",
      "Coney Island, Brooklyn\n",
      "Corona, Queens\n",
      "Corona, Queens\n",
      "Country Club, Bronx\n",
      "Crotona Park, Bronx\n",
      "Crotona Park East, Bronx\n",
      "Crown Heights North, Brooklyn\n",
      "Crown Heights South, Brooklyn\n",
      "Cypress Hills, Brooklyn\n",
      "Douglaston, Queens\n",
      "Downtown Brooklyn, Brooklyn\n",
      "DUMBO, Brooklyn\n",
      "Dyker Heights, Brooklyn\n",
      "East Chelsea, Manhattan\n",
      "East Concourse, Bronx\n",
      "East Elmhurst, Queens\n",
      "East Flatbush, Brooklyn\n",
      "East Flatbush, Brooklyn\n",
      "East Flushing, Queens\n",
      "East Harlem North, Manhattan\n",
      "East Harlem South, Manhattan\n",
      "East New York, Brooklyn\n",
      "East New York, Brooklyn\n",
      "East Tremont, Bronx\n",
      "East Village, Manhattan\n",
      "East Williamsburg, Brooklyn\n",
      "Eastchester, Bronx\n",
      "Elmhurst, Queens\n",
      "Elmhurst, Queens\n",
      "Eltingville, Staten Island\n",
      "Erasmus, Brooklyn\n",
      "Far Rockaway, Queens\n",
      "Financial District North, Manhattan\n",
      "Financial District South, Manhattan\n",
      "Flatbush, Brooklyn\n",
      "Flatiron, Manhattan\n",
      "Flatlands, Brooklyn\n",
      "Flushing, Queens\n",
      "Flushing Meadows-Corona Park, Queens\n",
      "Fordham South, Bronx\n",
      "Forest Hills, Queens\n",
      "Forest Park, Queens\n",
      "Fort Greene, Brooklyn\n",
      "Fresh Meadows, Queens\n",
      "Freshkills Park, Staten Island\n",
      "Garment District, Manhattan\n",
      "Glen Oaks, Queens\n",
      "Glendale, Queens\n",
      "Governor's Island, Manhattan\n",
      "Governor's Island, Manhattan\n",
      "Governor's Island, Manhattan\n",
      "Gowanus, Brooklyn\n",
      "Gramercy, Manhattan\n",
      "Gravesend, Brooklyn\n",
      "Great Kills, Staten Island\n",
      "Great Kills Park, Staten Island\n",
      "Green-Wood Cemetery, Brooklyn\n",
      "Greenpoint, Brooklyn\n",
      "Greenwich Village North, Manhattan\n",
      "Greenwich Village South, Manhattan\n",
      "Grymes Hill, Staten Island\n",
      "Hamilton Heights, Manhattan\n",
      "Hammels, Queens\n",
      "Heartland Village, Staten Island\n",
      "Highbridge, Bronx\n",
      "Highbridge Park, Manhattan\n",
      "Hillcrest, Queens\n",
      "Hollis, Queens\n",
      "Homecrest, Brooklyn\n",
      "Howard Beach, Queens\n",
      "Hudson Sq, Manhattan\n",
      "Hunts Point, Bronx\n",
      "Inwood, Manhattan\n",
      "Inwood Hill Park, Manhattan\n",
      "Jackson Heights, Queens\n",
      "Jamaica, Queens\n",
      "Jamaica Estates, Queens\n",
      "JFK Airport, Queens\n",
      "Kensington, Brooklyn\n",
      "Kew Gardens, Queens\n",
      "Kew Gardens, Queens\n",
      "Kingsbridge Heights, Bronx\n",
      "Kips Bay, Manhattan\n",
      "LaGuardia Airport, Queens\n",
      "Laurelton, Queens\n",
      "Lenox Hill East, Manhattan\n",
      "Lenox Hill West, Manhattan\n",
      "Lincoln Square East, Manhattan\n",
      "Lincoln Square West, Manhattan\n",
      "Little Italy, Manhattan\n",
      "Long Island City, Queens\n",
      "Long Island City, Queens\n",
      "Longwood, Bronx\n",
      "Lower East Side, Manhattan\n",
      "Madison, Brooklyn\n",
      "Manhattan Beach, Brooklyn\n",
      "Manhattan Valley, Manhattan\n",
      "Manhattanville, Manhattan\n",
      "Marble Hill, Manhattan\n",
      "Marine Park, Brooklyn\n",
      "Marine Park, Brooklyn\n",
      "Mariners Harbor, Staten Island\n",
      "Maspeth, Queens\n",
      "Meatpacking, Manhattan\n",
      "Melrose South, Bronx\n",
      "Middle Village, Queens\n",
      "Midtown Center, Manhattan\n",
      "Midtown East, Manhattan\n",
      "Midtown North, Manhattan\n",
      "Midtown South, Manhattan\n",
      "Midwood, Brooklyn\n",
      "Morningside Heights, Manhattan\n",
      "Morrisania, Bronx\n",
      "Mott Haven, Bronx\n",
      "West, Bronx\n",
      "Murray Hill, Manhattan\n",
      "Murray Hill-Queens, Queens\n",
      "New Dorp, Staten Island\n",
      "North Corona, Queens\n",
      "Norwood, Bronx\n",
      "Oakland Gardens, Queens\n",
      "Oakwood, Staten Island\n",
      "Ocean Hill, Brooklyn\n",
      "Ocean Parkway South, Brooklyn\n",
      "Old Astoria, Queens\n",
      "Ozone Park, Queens\n",
      "Park Slope, Brooklyn\n",
      "Parkchester, Bronx\n",
      "Pelham Bay, Bronx\n",
      "Pelham Bay Park, Bronx\n",
      "Pelham Parkway, Bronx\n",
      "Penn Station, Manhattan\n",
      "Port Richmond, Staten Island\n",
      "Crown Heights, Brooklyn\n",
      "Prospect Heights, Brooklyn\n",
      "Prospect Park, Brooklyn\n",
      "Queens Village, Queens\n",
      "Queensboro Hill, Queens\n",
      "Queensbridge, Queens\n",
      "Randalls Island, Manhattan\n",
      "Red Hook, Brooklyn\n",
      "Rego Park, Queens\n",
      "Richmond Hill, Queens\n",
      "Ridgewood, Queens\n",
      "Rikers Island, Bronx\n",
      "Riverdale, Bronx\n",
      "Rockaway Park, Queens\n",
      "Roosevelt Island, Manhattan\n",
      "Rosedale, Queens\n",
      "Rossville, Staten Island\n",
      "Saint Albans, Queens\n",
      "Saint George, Staten Island\n",
      "Saint Michaels Cemetery, Queens\n",
      "Schuylerville, Bronx\n",
      "Seaport, Manhattan\n",
      "Sheepshead Bay, Brooklyn\n",
      "SoHo, Manhattan\n",
      "Soundview, Bronx\n",
      "Soundview, Bronx\n",
      "South Beach, Staten Island\n",
      "South Jamaica, Queens\n",
      "South Ozone Park, Queens\n",
      "South Williamsburg, Brooklyn\n",
      "Springfield Gardens North, Queens\n",
      "Springfield Gardens South, Queens\n",
      "Spuyten Duyvil, Bronx\n",
      "Stapleton, Staten Island\n",
      "Starrett City, Brooklyn\n",
      "Steinway, Queens\n",
      "Stuy Town, Manhattan\n",
      "Stuyvesant Heights, Brooklyn\n",
      "Sunnyside, Queens\n",
      "Sunset Park East, Brooklyn\n",
      "Sunset Park West, Brooklyn\n",
      "Sutton Place, Manhattan\n",
      "Times Sq, Manhattan\n",
      "TriBeCa, Manhattan\n",
      "Two Bridges, Manhattan\n",
      "UN, Manhattan\n",
      "Union Sq, Manhattan\n",
      "University Heights, Bronx\n",
      "Upper East Side North, Manhattan\n",
      "Upper East Side South, Manhattan\n",
      "Upper West Side North, Manhattan\n",
      "Upper West Side South, Manhattan\n",
      "Van Cortlandt Park, Bronx\n",
      "Van Cortlandt, Bronx\n",
      "Van Nest, Bronx\n",
      "Washington Heights North, Manhattan\n",
      "Washington Heights South, Manhattan\n",
      "West Brighton, Staten Island\n",
      "West Chelsea, Manhattan\n",
      "West Concourse, Bronx\n",
      "West Farms, Bronx\n",
      "West Village, Manhattan\n",
      "Westchester Village, Bronx\n",
      "Westerleigh, Staten Island\n",
      "Whitestone, Queens\n",
      "Willets Point, Queens\n",
      "Williamsbridge, Bronx\n",
      "Williamsburg, Brooklyn\n",
      "Williamsburg, Brooklyn\n",
      "Windsor Terrace, Brooklyn\n",
      "Woodhaven, Queens\n",
      "Woodlawn, Bronx\n",
      "Woodside, Queens\n",
      "World Trade Center, Manhattan\n",
      "Yorkville East, Manhattan\n",
      "Yorkville West, Manhattan\n"
     ]
    }
   ],
   "source": [
    "zone['latitude'] = zone['Address'].apply(lambda y: lat(y))"
   ]
  },
  {
   "cell_type": "code",
   "execution_count": 273,
   "metadata": {
    "collapsed": true
   },
   "outputs": [
    {
     "name": "stdout",
     "output_type": "stream",
     "text": [
      "Newark Airport, \n",
      "Jamaica Bay, Queens\n",
      "Allerton, Bronx\n",
      "Alphabet City, Manhattan\n",
      "Arden Heights, Staten Island\n",
      "Arrochar, Staten Island\n",
      "Astoria, Queens\n",
      "Astoria Park, Queens\n",
      "Auburndale, Queens\n",
      "Baisley Park, Queens\n",
      "Bath Beach, Brooklyn\n",
      "Battery Park, Manhattan\n",
      "Battery Park City, Manhattan\n",
      "Bay Ridge, Brooklyn\n",
      "Bay Terrace, Queens\n",
      "Bayside, Queens\n",
      "Bedford, Brooklyn\n",
      "Bedford Park, Bronx\n",
      "Bellerose, Queens\n",
      "Belmont, Bronx\n",
      "Bensonhurst East, Brooklyn\n",
      "Bensonhurst West, Brooklyn\n",
      "Bloomfield, Staten Island\n",
      "Bloomingdale, Manhattan\n",
      "Boerum Hill, Brooklyn\n",
      "Borough Park, Brooklyn\n",
      "Breezy Point, Queens\n",
      "Briarwood, Queens\n",
      "Brighton Beach, Brooklyn\n",
      "Broad Channel, Queens\n",
      "Bronx Park, Bronx\n",
      "Bronxdale, Bronx\n",
      "Brooklyn Heights, Brooklyn\n",
      "Brooklyn Navy Yard, Brooklyn\n",
      "Brownsville, Brooklyn\n",
      "Bushwick North, Brooklyn\n",
      "Bushwick South, Brooklyn\n",
      "Cambria Heights, Queens\n",
      "Canarsie, Brooklyn\n",
      "Carroll Gardens, Brooklyn\n",
      "Central Harlem, Manhattan\n",
      "Central Harlem North, Manhattan\n",
      "Central Park, Manhattan\n",
      "Charleston, Staten Island\n",
      "Chinatown, Manhattan\n",
      "City Island, Bronx\n",
      "Claremont, Bronx\n",
      "Clinton East, Manhattan\n",
      "Clinton Hill, Brooklyn\n",
      "Clinton West, Manhattan\n",
      "Co-Op City, Bronx\n",
      "Cobble Hill, Brooklyn\n",
      "College Point, Queens\n",
      "Columbia Street, Brooklyn\n",
      "Coney Island, Brooklyn\n",
      "Corona, Queens\n",
      "Corona, Queens\n",
      "Country Club, Bronx\n",
      "Crotona Park, Bronx\n",
      "Crotona Park East, Bronx\n",
      "Crown Heights North, Brooklyn\n",
      "Crown Heights South, Brooklyn\n",
      "Cypress Hills, Brooklyn\n",
      "Douglaston, Queens\n",
      "Downtown Brooklyn, Brooklyn\n",
      "DUMBO, Brooklyn\n",
      "Dyker Heights, Brooklyn\n",
      "East Chelsea, Manhattan\n",
      "East Concourse, Bronx\n",
      "East Elmhurst, Queens\n",
      "East Flatbush, Brooklyn\n",
      "East Flatbush, Brooklyn\n",
      "East Flushing, Queens\n",
      "East Harlem North, Manhattan\n",
      "East Harlem South, Manhattan\n",
      "East New York, Brooklyn\n",
      "East New York, Brooklyn\n",
      "East Tremont, Bronx\n",
      "East Village, Manhattan\n",
      "East Williamsburg, Brooklyn\n",
      "Eastchester, Bronx\n",
      "Elmhurst, Queens\n",
      "Elmhurst, Queens\n",
      "Eltingville, Staten Island\n",
      "Erasmus, Brooklyn\n",
      "Far Rockaway, Queens\n",
      "Financial District North, Manhattan\n",
      "Financial District South, Manhattan\n",
      "Flatbush, Brooklyn\n",
      "Flatiron, Manhattan\n",
      "Flatlands, Brooklyn\n",
      "Flushing, Queens\n",
      "Flushing Meadows-Corona Park, Queens\n",
      "Fordham South, Bronx\n",
      "Forest Hills, Queens\n",
      "Forest Park, Queens\n",
      "Fort Greene, Brooklyn\n",
      "Fresh Meadows, Queens\n",
      "Freshkills Park, Staten Island\n",
      "Garment District, Manhattan\n",
      "Glen Oaks, Queens\n",
      "Glendale, Queens\n",
      "Governor's Island, Manhattan\n",
      "Governor's Island, Manhattan\n",
      "Governor's Island, Manhattan\n",
      "Gowanus, Brooklyn\n",
      "Gramercy, Manhattan\n",
      "Gravesend, Brooklyn\n",
      "Great Kills, Staten Island\n",
      "Great Kills Park, Staten Island\n",
      "Green-Wood Cemetery, Brooklyn\n",
      "Greenpoint, Brooklyn\n",
      "Greenwich Village North, Manhattan\n",
      "Greenwich Village South, Manhattan\n",
      "Grymes Hill, Staten Island\n",
      "Hamilton Heights, Manhattan\n",
      "Hammels, Queens\n",
      "Heartland Village, Staten Island\n",
      "Highbridge, Bronx\n",
      "Highbridge Park, Manhattan\n",
      "Hillcrest, Queens\n",
      "Hollis, Queens\n",
      "Homecrest, Brooklyn\n",
      "Howard Beach, Queens\n",
      "Hudson Sq, Manhattan\n",
      "Hunts Point, Bronx\n",
      "Inwood, Manhattan\n",
      "Inwood Hill Park, Manhattan\n",
      "Jackson Heights, Queens\n",
      "Jamaica, Queens\n",
      "Jamaica Estates, Queens\n",
      "JFK Airport, Queens\n",
      "Kensington, Brooklyn\n",
      "Kew Gardens, Queens\n",
      "Kew Gardens, Queens\n",
      "Kingsbridge Heights, Bronx\n",
      "Kips Bay, Manhattan\n",
      "LaGuardia Airport, Queens\n",
      "Laurelton, Queens\n",
      "Lenox Hill East, Manhattan\n",
      "Lenox Hill West, Manhattan\n",
      "Lincoln Square East, Manhattan\n",
      "Lincoln Square West, Manhattan\n",
      "Little Italy, Manhattan\n",
      "Long Island City, Queens\n",
      "Long Island City, Queens\n",
      "Longwood, Bronx\n",
      "Lower East Side, Manhattan\n",
      "Madison, Brooklyn\n",
      "Manhattan Beach, Brooklyn\n",
      "Manhattan Valley, Manhattan\n",
      "Manhattanville, Manhattan\n",
      "Marble Hill, Manhattan\n",
      "Marine Park, Brooklyn\n",
      "Marine Park, Brooklyn\n",
      "Mariners Harbor, Staten Island\n",
      "Maspeth, Queens\n",
      "Meatpacking, Manhattan\n",
      "Melrose South, Bronx\n",
      "Middle Village, Queens\n",
      "Midtown Center, Manhattan\n",
      "Midtown East, Manhattan\n",
      "Midtown North, Manhattan\n",
      "Midtown South, Manhattan\n",
      "Midwood, Brooklyn\n",
      "Morningside Heights, Manhattan\n",
      "Morrisania, Bronx\n",
      "Mott Haven, Bronx\n",
      "West, Bronx\n",
      "Murray Hill, Manhattan\n",
      "Murray Hill-Queens, Queens\n",
      "New Dorp, Staten Island\n",
      "North Corona, Queens\n",
      "Norwood, Bronx\n",
      "Oakland Gardens, Queens\n",
      "Oakwood, Staten Island\n",
      "Ocean Hill, Brooklyn\n",
      "Ocean Parkway South, Brooklyn\n",
      "Old Astoria, Queens\n",
      "Ozone Park, Queens\n",
      "Park Slope, Brooklyn\n",
      "Parkchester, Bronx\n",
      "Pelham Bay, Bronx\n",
      "Pelham Bay Park, Bronx\n",
      "Pelham Parkway, Bronx\n",
      "Penn Station, Manhattan\n",
      "Port Richmond, Staten Island\n",
      "Crown Heights, Brooklyn\n",
      "Prospect Heights, Brooklyn\n",
      "Prospect Park, Brooklyn\n",
      "Queens Village, Queens\n",
      "Queensboro Hill, Queens\n",
      "Queensbridge, Queens\n",
      "Randalls Island, Manhattan\n",
      "Red Hook, Brooklyn\n",
      "Rego Park, Queens\n",
      "Richmond Hill, Queens\n",
      "Ridgewood, Queens\n",
      "Rikers Island, Bronx\n",
      "Riverdale, Bronx\n",
      "Rockaway Park, Queens\n",
      "Roosevelt Island, Manhattan\n",
      "Rosedale, Queens\n",
      "Rossville, Staten Island\n",
      "Saint Albans, Queens\n",
      "Saint George, Staten Island\n",
      "Saint Michaels Cemetery, Queens\n",
      "Schuylerville, Bronx\n",
      "Seaport, Manhattan\n",
      "Sheepshead Bay, Brooklyn\n",
      "SoHo, Manhattan\n",
      "Soundview, Bronx\n",
      "Soundview, Bronx\n",
      "South Beach, Staten Island\n",
      "South Jamaica, Queens\n",
      "South Ozone Park, Queens\n",
      "South Williamsburg, Brooklyn\n",
      "Springfield Gardens North, Queens\n",
      "Springfield Gardens South, Queens\n",
      "Spuyten Duyvil, Bronx\n",
      "Stapleton, Staten Island\n",
      "Starrett City, Brooklyn\n",
      "Steinway, Queens\n",
      "Stuy Town, Manhattan\n",
      "Stuyvesant Heights, Brooklyn\n",
      "Sunnyside, Queens\n",
      "Sunset Park East, Brooklyn\n",
      "Sunset Park West, Brooklyn\n",
      "Sutton Place, Manhattan\n",
      "Times Sq, Manhattan\n",
      "TriBeCa, Manhattan\n",
      "Two Bridges, Manhattan\n",
      "UN, Manhattan\n",
      "Union Sq, Manhattan\n",
      "University Heights, Bronx\n",
      "Upper East Side North, Manhattan\n",
      "Upper East Side South, Manhattan\n",
      "Upper West Side North, Manhattan\n",
      "Upper West Side South, Manhattan\n",
      "Van Cortlandt Park, Bronx\n",
      "Van Cortlandt, Bronx\n",
      "Van Nest, Bronx\n",
      "Washington Heights North, Manhattan\n",
      "Washington Heights South, Manhattan\n",
      "West Brighton, Staten Island\n",
      "West Chelsea, Manhattan\n",
      "West Concourse, Bronx\n",
      "West Farms, Bronx\n",
      "West Village, Manhattan\n",
      "Westchester Village, Bronx\n",
      "Westerleigh, Staten Island\n",
      "Whitestone, Queens\n",
      "Willets Point, Queens\n",
      "Williamsbridge, Bronx\n",
      "Williamsburg, Brooklyn\n",
      "Williamsburg, Brooklyn\n",
      "Windsor Terrace, Brooklyn\n",
      "Woodhaven, Queens\n",
      "Woodlawn, Bronx\n",
      "Woodside, Queens\n",
      "World Trade Center, Manhattan\n",
      "Yorkville East, Manhattan\n",
      "Yorkville West, Manhattan\n"
     ]
    }
   ],
   "source": [
    "zone['longitude'] = zone['Address'].apply(lambda y: long(y))"
   ]
  },
  {
   "cell_type": "markdown",
   "metadata": {},
   "source": [
    "#### dropping columns"
   ]
  },
  {
   "cell_type": "code",
   "execution_count": 278,
   "metadata": {},
   "outputs": [],
   "source": [
    "zone.drop(['Borough','Zone','service_zone','location'],axis = 1, inplace = True)"
   ]
  },
  {
   "cell_type": "markdown",
   "metadata": {},
   "source": [
    "### fixing lat and long for areas that were not registering with geopy"
   ]
  },
  {
   "cell_type": "code",
   "execution_count": 282,
   "metadata": {
    "collapsed": true
   },
   "outputs": [
    {
     "name": "stderr",
     "output_type": "stream",
     "text": [
      "/Users/findlaybowditch/opt/anaconda3/lib/python3.7/site-packages/ipykernel_launcher.py:1: SettingWithCopyWarning: \n",
      "A value is trying to be set on a copy of a slice from a DataFrame\n",
      "\n",
      "See the caveats in the documentation: http://pandas.pydata.org/pandas-docs/stable/user_guide/indexing.html#returning-a-view-versus-a-copy\n",
      "  \"\"\"Entry point for launching an IPython kernel.\n"
     ]
    }
   ],
   "source": [
    "zone['latitude'][134] = '40.7384'"
   ]
  },
  {
   "cell_type": "code",
   "execution_count": 283,
   "metadata": {
    "collapsed": true
   },
   "outputs": [
    {
     "name": "stderr",
     "output_type": "stream",
     "text": [
      "/Users/findlaybowditch/opt/anaconda3/lib/python3.7/site-packages/ipykernel_launcher.py:1: SettingWithCopyWarning: \n",
      "A value is trying to be set on a copy of a slice from a DataFrame\n",
      "\n",
      "See the caveats in the documentation: http://pandas.pydata.org/pandas-docs/stable/user_guide/indexing.html#returning-a-view-versus-a-copy\n",
      "  \"\"\"Entry point for launching an IPython kernel.\n"
     ]
    }
   ],
   "source": [
    "zone['longitude'][134] = '-73.8104'"
   ]
  },
  {
   "cell_type": "code",
   "execution_count": 284,
   "metadata": {
    "collapsed": true
   },
   "outputs": [
    {
     "name": "stderr",
     "output_type": "stream",
     "text": [
      "/Users/findlaybowditch/opt/anaconda3/lib/python3.7/site-packages/ipykernel_launcher.py:1: SettingWithCopyWarning: \n",
      "A value is trying to be set on a copy of a slice from a DataFrame\n",
      "\n",
      "See the caveats in the documentation: http://pandas.pydata.org/pandas-docs/stable/user_guide/indexing.html#returning-a-view-versus-a-copy\n",
      "  \"\"\"Entry point for launching an IPython kernel.\n"
     ]
    }
   ],
   "source": [
    "zone['latitude'][168] = '40.8489'"
   ]
  },
  {
   "cell_type": "code",
   "execution_count": 285,
   "metadata": {
    "collapsed": true
   },
   "outputs": [
    {
     "name": "stderr",
     "output_type": "stream",
     "text": [
      "/Users/findlaybowditch/opt/anaconda3/lib/python3.7/site-packages/ipykernel_launcher.py:1: SettingWithCopyWarning: \n",
      "A value is trying to be set on a copy of a slice from a DataFrame\n",
      "\n",
      "See the caveats in the documentation: http://pandas.pydata.org/pandas-docs/stable/user_guide/indexing.html#returning-a-view-versus-a-copy\n",
      "  \"\"\"Entry point for launching an IPython kernel.\n"
     ]
    }
   ],
   "source": [
    "zone['longitude'][168] = '-73.9051'"
   ]
  },
  {
   "cell_type": "code",
   "execution_count": 286,
   "metadata": {
    "collapsed": true
   },
   "outputs": [
    {
     "name": "stderr",
     "output_type": "stream",
     "text": [
      "/Users/findlaybowditch/opt/anaconda3/lib/python3.7/site-packages/ipykernel_launcher.py:1: SettingWithCopyWarning: \n",
      "A value is trying to be set on a copy of a slice from a DataFrame\n",
      "\n",
      "See the caveats in the documentation: http://pandas.pydata.org/pandas-docs/stable/user_guide/indexing.html#returning-a-view-versus-a-copy\n",
      "  \"\"\"Entry point for launching an IPython kernel.\n"
     ]
    }
   ],
   "source": [
    "zone['latitude'][187] = '40.6592'"
   ]
  },
  {
   "cell_type": "code",
   "execution_count": 287,
   "metadata": {
    "collapsed": true
   },
   "outputs": [
    {
     "name": "stderr",
     "output_type": "stream",
     "text": [
      "/Users/findlaybowditch/opt/anaconda3/lib/python3.7/site-packages/ipykernel_launcher.py:1: SettingWithCopyWarning: \n",
      "A value is trying to be set on a copy of a slice from a DataFrame\n",
      "\n",
      "See the caveats in the documentation: http://pandas.pydata.org/pandas-docs/stable/user_guide/indexing.html#returning-a-view-versus-a-copy\n",
      "  \"\"\"Entry point for launching an IPython kernel.\n"
     ]
    }
   ],
   "source": [
    "zone['longitude'][187] = '-73.9534'"
   ]
  },
  {
   "cell_type": "code",
   "execution_count": 288,
   "metadata": {
    "collapsed": true
   },
   "outputs": [
    {
     "name": "stderr",
     "output_type": "stream",
     "text": [
      "/Users/findlaybowditch/opt/anaconda3/lib/python3.7/site-packages/ipykernel_launcher.py:1: SettingWithCopyWarning: \n",
      "A value is trying to be set on a copy of a slice from a DataFrame\n",
      "\n",
      "See the caveats in the documentation: http://pandas.pydata.org/pandas-docs/stable/user_guide/indexing.html#returning-a-view-versus-a-copy\n",
      "  \"\"\"Entry point for launching an IPython kernel.\n"
     ]
    }
   ],
   "source": [
    "zone['latitude'][240] = '40.8964'"
   ]
  },
  {
   "cell_type": "code",
   "execution_count": 289,
   "metadata": {
    "collapsed": true
   },
   "outputs": [
    {
     "name": "stderr",
     "output_type": "stream",
     "text": [
      "/Users/findlaybowditch/opt/anaconda3/lib/python3.7/site-packages/ipykernel_launcher.py:1: SettingWithCopyWarning: \n",
      "A value is trying to be set on a copy of a slice from a DataFrame\n",
      "\n",
      "See the caveats in the documentation: http://pandas.pydata.org/pandas-docs/stable/user_guide/indexing.html#returning-a-view-versus-a-copy\n",
      "  \"\"\"Entry point for launching an IPython kernel.\n"
     ]
    }
   ],
   "source": [
    "zone['longitude'][240] = '-73.8853'"
   ]
  },
  {
   "cell_type": "markdown",
   "metadata": {},
   "source": [
    "### saving df as csv "
   ]
  },
  {
   "cell_type": "code",
   "execution_count": 300,
   "metadata": {},
   "outputs": [],
   "source": [
    "zone.to_csv('zone.csv',index=False)"
   ]
  },
  {
   "cell_type": "code",
   "execution_count": null,
   "metadata": {},
   "outputs": [],
   "source": []
  }
 ],
 "metadata": {
  "kernelspec": {
   "display_name": "Python 3",
   "language": "python",
   "name": "python3"
  },
  "language_info": {
   "codemirror_mode": {
    "name": "ipython",
    "version": 3
   },
   "file_extension": ".py",
   "mimetype": "text/x-python",
   "name": "python",
   "nbconvert_exporter": "python",
   "pygments_lexer": "ipython3",
   "version": "3.7.4"
  }
 },
 "nbformat": 4,
 "nbformat_minor": 2
}
