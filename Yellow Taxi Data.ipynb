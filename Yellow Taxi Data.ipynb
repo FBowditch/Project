{
 "cells": [
  {
   "cell_type": "code",
   "execution_count": 1,
   "metadata": {},
   "outputs": [],
   "source": [
    "import requests\n",
    "import time\n",
    "import pandas as pd"
   ]
  },
  {
   "cell_type": "code",
   "execution_count": 2,
   "metadata": {},
   "outputs": [],
   "source": [
    "sites = []\n",
    "month = range(1,7)\n",
    "for x in month:\n",
    "    x = str(x)\n",
    "    site = 'https://s3.amazonaws.com/nyc-tlc/trip+data/yellow_tripdata_2019-0'+x+'.csv'\n",
    "    sites.append(site)"
   ]
  },
  {
   "cell_type": "code",
   "execution_count": 3,
   "metadata": {
    "scrolled": false
   },
   "outputs": [
    {
     "data": {
      "text/plain": [
       "['https://s3.amazonaws.com/nyc-tlc/trip+data/yellow_tripdata_2019-01.csv',\n",
       " 'https://s3.amazonaws.com/nyc-tlc/trip+data/yellow_tripdata_2019-02.csv',\n",
       " 'https://s3.amazonaws.com/nyc-tlc/trip+data/yellow_tripdata_2019-03.csv',\n",
       " 'https://s3.amazonaws.com/nyc-tlc/trip+data/yellow_tripdata_2019-04.csv',\n",
       " 'https://s3.amazonaws.com/nyc-tlc/trip+data/yellow_tripdata_2019-05.csv',\n",
       " 'https://s3.amazonaws.com/nyc-tlc/trip+data/yellow_tripdata_2019-06.csv']"
      ]
     },
     "execution_count": 3,
     "metadata": {},
     "output_type": "execute_result"
    }
   ],
   "source": [
    "sites"
   ]
  },
  {
   "cell_type": "code",
   "execution_count": 4,
   "metadata": {
    "scrolled": true
   },
   "outputs": [
    {
     "name": "stdout",
     "output_type": "stream",
     "text": [
      "begin\n",
      "1578965235.683817\n",
      "finished\n",
      "1578965332.044322\n",
      "96.36050510406494\n",
      "begin\n",
      "1578965332.044497\n",
      "finished\n",
      "1578965420.209988\n",
      "88.16549110412598\n",
      "begin\n",
      "1578965420.21042\n",
      "finished\n",
      "1578965514.091732\n",
      "93.88131213188171\n",
      "begin\n",
      "1578965514.091914\n",
      "finished\n",
      "1578965601.294826\n",
      "87.20291209220886\n",
      "begin\n",
      "1578965601.295001\n",
      "finished\n",
      "1578965694.050163\n",
      "92.75516200065613\n",
      "begin\n",
      "1578965694.0503051\n",
      "finished\n",
      "1578965778.84739\n",
      "84.79708480834961\n"
     ]
    }
   ],
   "source": [
    "for site in sites:\n",
    "    results19 = []\n",
    "    start = time.time()\n",
    "    print('begin')\n",
    "    print(start)\n",
    "    results = requests.get(site)\n",
    "    end = time.time()\n",
    "    print('finished')\n",
    "    print(end)\n",
    "    print(end - start)\n",
    "    results19.append(results)"
   ]
  },
  {
   "cell_type": "code",
   "execution_count": 5,
   "metadata": {},
   "outputs": [],
   "source": [
    "results19_df = pd.DataFrame(results19)"
   ]
  },
  {
   "cell_type": "code",
   "execution_count": 6,
   "metadata": {},
   "outputs": [
    {
     "data": {
      "text/plain": [
       "1"
      ]
     },
     "execution_count": 6,
     "metadata": {},
     "output_type": "execute_result"
    }
   ],
   "source": [
    "len(results19_df)"
   ]
  },
  {
   "cell_type": "code",
   "execution_count": null,
   "metadata": {},
   "outputs": [],
   "source": []
  },
  {
   "cell_type": "code",
   "execution_count": null,
   "metadata": {},
   "outputs": [],
   "source": []
  },
  {
   "cell_type": "code",
   "execution_count": null,
   "metadata": {},
   "outputs": [],
   "source": []
  },
  {
   "cell_type": "code",
   "execution_count": null,
   "metadata": {},
   "outputs": [],
   "source": []
  },
  {
   "cell_type": "code",
   "execution_count": null,
   "metadata": {},
   "outputs": [],
   "source": []
  },
  {
   "cell_type": "code",
   "execution_count": null,
   "metadata": {},
   "outputs": [],
   "source": [
    "'2019' = requests.get('https://s3.amazonaws.com/nyc-tlc/trip+data/yellow_tripdata_2019-0'x'.csv')"
   ]
  },
  {
   "cell_type": "code",
   "execution_count": 13,
   "metadata": {},
   "outputs": [],
   "source": [
    "key = '2ZKxNUDGGjSLpYBCCYNjjVklE'"
   ]
  },
  {
   "cell_type": "code",
   "execution_count": 3,
   "metadata": {},
   "outputs": [
    {
     "data": {
      "text/plain": [
       "'2ZKxNUDGGjSLpYBCCYNjjVklE'"
      ]
     },
     "execution_count": 3,
     "metadata": {},
     "output_type": "execute_result"
    }
   ],
   "source": [
    "def taxi_call(url_params, api_key):\n",
    "    url = 'https://api.yelp.com/v3/businesses/search'\n",
    "    headers = {'Authorization': 'Bearer {}'.format(api_key)}\n",
    "    response = requests.get(url, headers=headers, params=url_params)\n",
    "    \n",
    "    data = response.json()['businesses']\n",
    "    return data"
   ]
  },
  {
   "cell_type": "code",
   "execution_count": null,
   "metadata": {},
   "outputs": [],
   "source": [
    "import time\n",
    "\n",
    "def all_results(url_params, api_key):\n",
    "    num = response.json()['total']\n",
    "    print('{} total matches found.'.format(num))\n",
    "    cur = 0\n",
    "    \n",
    "    while cur < num and cur < 1000:\n",
    "        url_params['offset'] = cur\n",
    "        results = taxi_call(url_params, api_key)\n",
    "        parsed_results = parse_results(results)\n",
    "        db_insert(parsed)\n",
    "        time.sleep(1) #Wait a second\n",
    "        cur += 50\n"
   ]
  },
  {
   "cell_type": "code",
   "execution_count": 14,
   "metadata": {},
   "outputs": [],
   "source": [
    "import pandas as pd\n",
    "from sodapy import Socrata\n",
    "\n",
    "#2015 yellow taxi data (jan-june)\n",
    "client = Socrata(\"data.cityofnewyork.us\", key, timeout = 10)\n",
    "\n",
    "results = client.get(\"2yzn-sicd\", limit=5)\n",
    "\n",
    "# Convert to pandas DataFrame\n",
    "results_df = pd.DataFrame.from_records(results)"
   ]
  },
  {
   "cell_type": "code",
   "execution_count": 15,
   "metadata": {},
   "outputs": [
    {
     "data": {
      "text/html": [
       "<div>\n",
       "<style scoped>\n",
       "    .dataframe tbody tr th:only-of-type {\n",
       "        vertical-align: middle;\n",
       "    }\n",
       "\n",
       "    .dataframe tbody tr th {\n",
       "        vertical-align: top;\n",
       "    }\n",
       "\n",
       "    .dataframe thead th {\n",
       "        text-align: right;\n",
       "    }\n",
       "</style>\n",
       "<table border=\"1\" class=\"dataframe\">\n",
       "  <thead>\n",
       "    <tr style=\"text-align: right;\">\n",
       "      <th></th>\n",
       "      <th>passenger_count</th>\n",
       "      <th>trip_distance</th>\n",
       "      <th>pickup_longitude</th>\n",
       "      <th>pickup_latitude</th>\n",
       "      <th>store_and_fwd_flag</th>\n",
       "      <th>dropoff_longitude</th>\n",
       "      <th>dropoff_latitude</th>\n",
       "      <th>fare_amount</th>\n",
       "      <th>extra</th>\n",
       "      <th>mta_tax</th>\n",
       "      <th>tip_amount</th>\n",
       "      <th>tolls_amount</th>\n",
       "      <th>total_amount</th>\n",
       "      <th>vendor_id</th>\n",
       "      <th>pickup_datetime</th>\n",
       "      <th>dropoff_datetime</th>\n",
       "      <th>rate_code</th>\n",
       "      <th>payment_type</th>\n",
       "    </tr>\n",
       "  </thead>\n",
       "  <tbody>\n",
       "    <tr>\n",
       "      <td>0</td>\n",
       "      <td>1</td>\n",
       "      <td>2.8</td>\n",
       "      <td>-73.959068298339844</td>\n",
       "      <td>40.716873168945313</td>\n",
       "      <td>N</td>\n",
       "      <td>-73.985038757324219</td>\n",
       "      <td>40.714572906494141</td>\n",
       "      <td>11.5</td>\n",
       "      <td>0.5</td>\n",
       "      <td>0.5</td>\n",
       "      <td>2.56</td>\n",
       "      <td>0</td>\n",
       "      <td>15.36</td>\n",
       "      <td>1</td>\n",
       "      <td>2015-03-20T00:49:57.000</td>\n",
       "      <td>2015-03-20T01:01:34.000</td>\n",
       "      <td>1</td>\n",
       "      <td>1</td>\n",
       "    </tr>\n",
       "    <tr>\n",
       "      <td>1</td>\n",
       "      <td>1</td>\n",
       "      <td>1.31</td>\n",
       "      <td>-73.998519897460938</td>\n",
       "      <td>40.760475158691406</td>\n",
       "      <td>N</td>\n",
       "      <td>-73.985969543457031</td>\n",
       "      <td>40.762500762939453</td>\n",
       "      <td>8.5</td>\n",
       "      <td>0</td>\n",
       "      <td>0.5</td>\n",
       "      <td>0</td>\n",
       "      <td>0</td>\n",
       "      <td>9.3</td>\n",
       "      <td>2</td>\n",
       "      <td>2015-03-10T14:24:06.000</td>\n",
       "      <td>2015-03-10T14:35:16.000</td>\n",
       "      <td>1</td>\n",
       "      <td>2</td>\n",
       "    </tr>\n",
       "    <tr>\n",
       "      <td>2</td>\n",
       "      <td>1</td>\n",
       "      <td>1.1</td>\n",
       "      <td>-73.995803833007812</td>\n",
       "      <td>40.736911773681641</td>\n",
       "      <td>N</td>\n",
       "      <td>-73.990104675292969</td>\n",
       "      <td>40.725105285644531</td>\n",
       "      <td>7.5</td>\n",
       "      <td>0</td>\n",
       "      <td>0.5</td>\n",
       "      <td>1</td>\n",
       "      <td>0</td>\n",
       "      <td>9.3</td>\n",
       "      <td>1</td>\n",
       "      <td>2015-06-15T14:53:18.000</td>\n",
       "      <td>2015-06-15T15:02:18.000</td>\n",
       "      <td>1</td>\n",
       "      <td>1</td>\n",
       "    </tr>\n",
       "    <tr>\n",
       "      <td>3</td>\n",
       "      <td>1</td>\n",
       "      <td>0</td>\n",
       "      <td>-73.991241455078125</td>\n",
       "      <td>40.735061645507812</td>\n",
       "      <td>N</td>\n",
       "      <td>-73.991241455078125</td>\n",
       "      <td>40.735061645507812</td>\n",
       "      <td>2.5</td>\n",
       "      <td>0.5</td>\n",
       "      <td>0.5</td>\n",
       "      <td>0</td>\n",
       "      <td>0</td>\n",
       "      <td>3.8</td>\n",
       "      <td>1</td>\n",
       "      <td>2015-04-05T05:23:31.000</td>\n",
       "      <td>2015-04-05T05:24:21.000</td>\n",
       "      <td>1</td>\n",
       "      <td>4</td>\n",
       "    </tr>\n",
       "    <tr>\n",
       "      <td>4</td>\n",
       "      <td>1</td>\n",
       "      <td>1.26</td>\n",
       "      <td>-73.995643615722656</td>\n",
       "      <td>40.724697113037109</td>\n",
       "      <td>N</td>\n",
       "      <td>-73.989753723144531</td>\n",
       "      <td>40.739452362060547</td>\n",
       "      <td>9.5</td>\n",
       "      <td>0</td>\n",
       "      <td>0.5</td>\n",
       "      <td>0</td>\n",
       "      <td>0</td>\n",
       "      <td>10.3</td>\n",
       "      <td>2</td>\n",
       "      <td>2015-04-09T11:53:35.000</td>\n",
       "      <td>2015-04-09T12:06:12.000</td>\n",
       "      <td>1</td>\n",
       "      <td>2</td>\n",
       "    </tr>\n",
       "  </tbody>\n",
       "</table>\n",
       "</div>"
      ],
      "text/plain": [
       "  passenger_count trip_distance     pickup_longitude     pickup_latitude  \\\n",
       "0               1           2.8  -73.959068298339844  40.716873168945313   \n",
       "1               1          1.31  -73.998519897460938  40.760475158691406   \n",
       "2               1           1.1  -73.995803833007812  40.736911773681641   \n",
       "3               1             0  -73.991241455078125  40.735061645507812   \n",
       "4               1          1.26  -73.995643615722656  40.724697113037109   \n",
       "\n",
       "  store_and_fwd_flag    dropoff_longitude    dropoff_latitude fare_amount  \\\n",
       "0                  N  -73.985038757324219  40.714572906494141        11.5   \n",
       "1                  N  -73.985969543457031  40.762500762939453         8.5   \n",
       "2                  N  -73.990104675292969  40.725105285644531         7.5   \n",
       "3                  N  -73.991241455078125  40.735061645507812         2.5   \n",
       "4                  N  -73.989753723144531  40.739452362060547         9.5   \n",
       "\n",
       "  extra mta_tax tip_amount tolls_amount total_amount vendor_id  \\\n",
       "0   0.5     0.5       2.56            0        15.36         1   \n",
       "1     0     0.5          0            0          9.3         2   \n",
       "2     0     0.5          1            0          9.3         1   \n",
       "3   0.5     0.5          0            0          3.8         1   \n",
       "4     0     0.5          0            0         10.3         2   \n",
       "\n",
       "           pickup_datetime         dropoff_datetime rate_code payment_type  \n",
       "0  2015-03-20T00:49:57.000  2015-03-20T01:01:34.000         1            1  \n",
       "1  2015-03-10T14:24:06.000  2015-03-10T14:35:16.000         1            2  \n",
       "2  2015-06-15T14:53:18.000  2015-06-15T15:02:18.000         1            1  \n",
       "3  2015-04-05T05:23:31.000  2015-04-05T05:24:21.000         1            4  \n",
       "4  2015-04-09T11:53:35.000  2015-04-09T12:06:12.000         1            2  "
      ]
     },
     "execution_count": 15,
     "metadata": {},
     "output_type": "execute_result"
    }
   ],
   "source": [
    "results_df"
   ]
  },
  {
   "cell_type": "code",
   "execution_count": null,
   "metadata": {},
   "outputs": [],
   "source": [
    "cur = 0  \n",
    "while cur < 438:\n",
    "    url_params['offset'] = cur\n",
    "    results = yelp_call(url_params, api_key)\n",
    "    biz_id = parse_results_reviews(results)\n",
    "    review_results = yelp_call_review(api_key, the_id)\n",
    "    parsed_review_results = parse_review_results(review_results)\n",
    "    db_insert_reviews(parsed_review_results)\n",
    "    time.sleep(1) #Wait a second\n",
    "    cur = 50 + cur"
   ]
  },
  {
   "cell_type": "code",
   "execution_count": 32,
   "metadata": {},
   "outputs": [
    {
     "data": {
      "text/html": [
       "<div>\n",
       "<style scoped>\n",
       "    .dataframe tbody tr th:only-of-type {\n",
       "        vertical-align: middle;\n",
       "    }\n",
       "\n",
       "    .dataframe tbody tr th {\n",
       "        vertical-align: top;\n",
       "    }\n",
       "\n",
       "    .dataframe thead th {\n",
       "        text-align: right;\n",
       "    }\n",
       "</style>\n",
       "<table border=\"1\" class=\"dataframe\">\n",
       "  <thead>\n",
       "    <tr style=\"text-align: right;\">\n",
       "      <th></th>\n",
       "      <th>vendorid</th>\n",
       "      <th>tpep_pickup_datetime</th>\n",
       "      <th>tpep_dropoff_datetime</th>\n",
       "      <th>passenger_count</th>\n",
       "      <th>trip_distance</th>\n",
       "      <th>ratecodeid</th>\n",
       "      <th>store_and_fwd_flag</th>\n",
       "      <th>pulocationid</th>\n",
       "      <th>dolocationid</th>\n",
       "      <th>payment_type</th>\n",
       "      <th>fare_amount</th>\n",
       "      <th>extra</th>\n",
       "      <th>mta_tax</th>\n",
       "      <th>tip_amount</th>\n",
       "      <th>tolls_amount</th>\n",
       "      <th>improvement_surcharge</th>\n",
       "      <th>total_amount</th>\n",
       "    </tr>\n",
       "  </thead>\n",
       "  <tbody>\n",
       "    <tr>\n",
       "      <td>0</td>\n",
       "      <td>1</td>\n",
       "      <td>2019-01-01T00:59:47.000</td>\n",
       "      <td>2019-01-01T01:18:59.000</td>\n",
       "      <td>1</td>\n",
       "      <td>2.60</td>\n",
       "      <td>1</td>\n",
       "      <td>N</td>\n",
       "      <td>239</td>\n",
       "      <td>246</td>\n",
       "      <td>1</td>\n",
       "      <td>14</td>\n",
       "      <td>0.5</td>\n",
       "      <td>0.5</td>\n",
       "      <td>1</td>\n",
       "      <td>0</td>\n",
       "      <td>0.3</td>\n",
       "      <td>16.3</td>\n",
       "    </tr>\n",
       "    <tr>\n",
       "      <td>1</td>\n",
       "      <td>2</td>\n",
       "      <td>2018-12-21T13:48:30.000</td>\n",
       "      <td>2018-12-21T13:52:40.000</td>\n",
       "      <td>3</td>\n",
       "      <td>0.00</td>\n",
       "      <td>1</td>\n",
       "      <td>N</td>\n",
       "      <td>236</td>\n",
       "      <td>236</td>\n",
       "      <td>1</td>\n",
       "      <td>4.5</td>\n",
       "      <td>0.5</td>\n",
       "      <td>0.5</td>\n",
       "      <td>0</td>\n",
       "      <td>0</td>\n",
       "      <td>0.3</td>\n",
       "      <td>5.8</td>\n",
       "    </tr>\n",
       "  </tbody>\n",
       "</table>\n",
       "</div>"
      ],
      "text/plain": [
       "  vendorid     tpep_pickup_datetime    tpep_dropoff_datetime passenger_count  \\\n",
       "0        1  2019-01-01T00:59:47.000  2019-01-01T01:18:59.000               1   \n",
       "1        2  2018-12-21T13:48:30.000  2018-12-21T13:52:40.000               3   \n",
       "\n",
       "  trip_distance ratecodeid store_and_fwd_flag pulocationid dolocationid  \\\n",
       "0          2.60          1                  N          239          246   \n",
       "1          0.00          1                  N          236          236   \n",
       "\n",
       "  payment_type fare_amount extra mta_tax tip_amount tolls_amount  \\\n",
       "0            1          14   0.5     0.5          1            0   \n",
       "1            1         4.5   0.5     0.5          0            0   \n",
       "\n",
       "  improvement_surcharge total_amount  \n",
       "0                   0.3         16.3  \n",
       "1                   0.3          5.8  "
      ]
     },
     "execution_count": 32,
     "metadata": {},
     "output_type": "execute_result"
    }
   ],
   "source": [
    "results_df.tail()"
   ]
  },
  {
   "cell_type": "code",
   "execution_count": 25,
   "metadata": {},
   "outputs": [
    {
     "name": "stdout",
     "output_type": "stream",
     "text": [
      "<class 'pandas.core.frame.DataFrame'>\n",
      "RangeIndex: 50 entries, 0 to 49\n",
      "Data columns (total 17 columns):\n",
      "vendorid                 50 non-null object\n",
      "tpep_pickup_datetime     50 non-null object\n",
      "tpep_dropoff_datetime    50 non-null object\n",
      "passenger_count          50 non-null object\n",
      "trip_distance            50 non-null object\n",
      "ratecodeid               50 non-null object\n",
      "store_and_fwd_flag       50 non-null object\n",
      "pulocationid             50 non-null object\n",
      "dolocationid             50 non-null object\n",
      "payment_type             50 non-null object\n",
      "fare_amount              50 non-null object\n",
      "extra                    50 non-null object\n",
      "mta_tax                  50 non-null object\n",
      "tip_amount               50 non-null object\n",
      "tolls_amount             50 non-null object\n",
      "improvement_surcharge    50 non-null object\n",
      "total_amount             50 non-null object\n",
      "dtypes: object(17)\n",
      "memory usage: 6.8+ KB\n"
     ]
    }
   ],
   "source": [
    "results_df.info()"
   ]
  },
  {
   "cell_type": "code",
   "execution_count": 3,
   "metadata": {},
   "outputs": [
    {
     "name": "stderr",
     "output_type": "stream",
     "text": [
      "/Users/findlaybowditch/opt/anaconda3/lib/python3.7/site-packages/IPython/core/interactiveshell.py:3058: DtypeWarning: Columns (0,12) have mixed types. Specify dtype option on import or set low_memory=False.\n",
      "  interactivity=interactivity, compiler=compiler, result=result)\n"
     ]
    }
   ],
   "source": [
    "import pandas as pd\n",
    "y19 = pd.read_csv('yellowtaxi-trip-data/2019_Yellow_Taxi_Trip_Data.csv')"
   ]
  },
  {
   "cell_type": "code",
   "execution_count": 17,
   "metadata": {},
   "outputs": [
    {
     "data": {
      "text/plain": [
       "9001102"
      ]
     },
     "execution_count": 17,
     "metadata": {},
     "output_type": "execute_result"
    }
   ],
   "source": [
    "len(y19)"
   ]
  },
  {
   "cell_type": "code",
   "execution_count": null,
   "metadata": {},
   "outputs": [],
   "source": []
  }
 ],
 "metadata": {
  "kernelspec": {
   "display_name": "Python 3",
   "language": "python",
   "name": "python3"
  },
  "language_info": {
   "codemirror_mode": {
    "name": "ipython",
    "version": 3
   },
   "file_extension": ".py",
   "mimetype": "text/x-python",
   "name": "python",
   "nbconvert_exporter": "python",
   "pygments_lexer": "ipython3",
   "version": "3.7.4"
  }
 },
 "nbformat": 4,
 "nbformat_minor": 2
}
